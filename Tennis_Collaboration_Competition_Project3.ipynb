{
 "cells": [
  {
   "cell_type": "markdown",
   "metadata": {},
   "source": [
    "# Collaboration and Competition\n",
    "\n",
    "---\n",
    "\n",
    "You are welcome to use this coding environment to train your agent for the project.  Follow the instructions below to get started!\n",
    "\n",
    "### 1. Start the Environment\n",
    "\n",
    "Run the next code cell to install a few packages.  This line will take a few minutes to run!"
   ]
  },
  {
   "cell_type": "code",
   "execution_count": 2,
   "metadata": {},
   "outputs": [
    {
     "name": "stdout",
     "output_type": "stream",
     "text": [
      "\u001b[31mtensorflow 1.7.1 has requirement numpy>=1.13.3, but you'll have numpy 1.12.1 which is incompatible.\u001b[0m\r\n",
      "\u001b[31mipython 6.5.0 has requirement prompt-toolkit<2.0.0,>=1.0.15, but you'll have prompt-toolkit 3.0.36 which is incompatible.\u001b[0m\r\n",
      "\u001b[31mjupyter-console 6.4.3 has requirement jupyter-client>=7.0.0, but you'll have jupyter-client 5.2.4 which is incompatible.\u001b[0m\r\n"
     ]
    }
   ],
   "source": [
    "!pip -q install ./python"
   ]
  },
  {
   "cell_type": "markdown",
   "metadata": {},
   "source": [
    "The environment is already saved in the Workspace and can be accessed at the file path provided below. "
   ]
  },
  {
   "cell_type": "code",
   "execution_count": 3,
   "metadata": {},
   "outputs": [
    {
     "name": "stderr",
     "output_type": "stream",
     "text": [
      "INFO:unityagents:\n",
      "'Academy' started successfully!\n",
      "Unity Academy name: Academy\n",
      "        Number of Brains: 1\n",
      "        Number of External Brains : 1\n",
      "        Lesson number : 0\n",
      "        Reset Parameters :\n",
      "\t\t\n",
      "Unity brain name: TennisBrain\n",
      "        Number of Visual Observations (per agent): 0\n",
      "        Vector Observation space type: continuous\n",
      "        Vector Observation space size (per agent): 8\n",
      "        Number of stacked Vector Observation: 3\n",
      "        Vector Action space type: continuous\n",
      "        Vector Action space size (per agent): 2\n",
      "        Vector Action descriptions: , \n"
     ]
    }
   ],
   "source": [
    "from unityagents import UnityEnvironment\n",
    "import numpy as np\n",
    "\n",
    "env = UnityEnvironment(file_name=\"/data/Tennis_Linux_NoVis/Tennis\")"
   ]
  },
  {
   "cell_type": "markdown",
   "metadata": {},
   "source": [
    "Environments contain **_brains_** which are responsible for deciding the actions of their associated agents. Here we check for the first brain available, and set it as the default brain we will be controlling from Python."
   ]
  },
  {
   "cell_type": "code",
   "execution_count": 4,
   "metadata": {},
   "outputs": [],
   "source": [
    "# get the default brain\n",
    "brain_name = env.brain_names[0]\n",
    "brain = env.brains[brain_name]"
   ]
  },
  {
   "cell_type": "markdown",
   "metadata": {},
   "source": [
    "### 2. Examine the State and Action Spaces\n",
    "\n",
    "Run the code cell below to print some information about the environment."
   ]
  },
  {
   "cell_type": "code",
   "execution_count": 5,
   "metadata": {},
   "outputs": [
    {
     "name": "stdout",
     "output_type": "stream",
     "text": [
      "Number of agents: 2\n",
      "Size of each action: 2\n",
      "There are 2 agents. Each observes a state with length: 24\n",
      "The state for the first agent looks like: [ 0.          0.          0.          0.          0.          0.          0.\n",
      "  0.          0.          0.          0.          0.          0.          0.\n",
      "  0.          0.         -6.65278625 -1.5        -0.          0.\n",
      "  6.83172083  6.         -0.          0.        ]\n"
     ]
    }
   ],
   "source": [
    "# reset the environment\n",
    "env_info = env.reset(train_mode=True)[brain_name]\n",
    "\n",
    "# number of agents \n",
    "num_agents = len(env_info.agents)\n",
    "print('Number of agents:', num_agents)\n",
    "\n",
    "# size of each action\n",
    "action_size = brain.vector_action_space_size\n",
    "print('Size of each action:', action_size)\n",
    "\n",
    "# examine the state space \n",
    "states = env_info.vector_observations\n",
    "state_size = states.shape[1]\n",
    "print('There are {} agents. Each observes a state with length: {}'.format(states.shape[0], state_size))\n",
    "print('The state for the first agent looks like:', states[0])"
   ]
  },
  {
   "cell_type": "markdown",
   "metadata": {},
   "source": [
    "### 3. Take Random Actions in the Environment\n",
    "\n",
    "In the next code cell, you will learn how to use the Python API to control the agent and receive feedback from the environment.\n",
    "\n",
    "Note that **in this coding environment, you will not be able to watch the agents while they are training**, and you should set `train_mode=True` to restart the environment."
   ]
  },
  {
   "cell_type": "code",
   "execution_count": 6,
   "metadata": {},
   "outputs": [
    {
     "name": "stdout",
     "output_type": "stream",
     "text": [
      "Total score (averaged over agents) this episode: -0.004999999888241291\n",
      "Total score (averaged over agents) this episode: -0.004999999888241291\n",
      "Total score (averaged over agents) this episode: -0.004999999888241291\n",
      "Total score (averaged over agents) this episode: 0.04500000085681677\n",
      "Total score (averaged over agents) this episode: -0.004999999888241291\n"
     ]
    }
   ],
   "source": [
    "for i in range(5):                                         # play game for 5 episodes\n",
    "    env_info = env.reset(train_mode=False)[brain_name]     # reset the environment    \n",
    "    states = env_info.vector_observations                  # get the current state (for each agent)\n",
    "    scores = np.zeros(num_agents)                          # initialize the score (for each agent)\n",
    "    while True:\n",
    "        actions = np.random.randn(num_agents, action_size) # select an action (for each agent)\n",
    "        actions = np.clip(actions, -1, 1)                  # all actions between -1 and 1\n",
    "        env_info = env.step(actions)[brain_name]           # send all actions to tne environment\n",
    "        next_states = env_info.vector_observations         # get next state (for each agent)\n",
    "        rewards = env_info.rewards                         # get reward (for each agent)\n",
    "        dones = env_info.local_done                        # see if episode finished\n",
    "        scores += env_info.rewards                         # update the score (for each agent)\n",
    "        states = next_states                               # roll over states to next time step\n",
    "        if np.any(dones):                                  # exit loop if episode finished\n",
    "            break\n",
    "    print('Total score (averaged over agents) this episode: {}'.format(np.mean(scores)))"
   ]
  },
  {
   "cell_type": "markdown",
   "metadata": {},
   "source": [
    "When finished, you can close the environment."
   ]
  },
  {
   "cell_type": "code",
   "execution_count": null,
   "metadata": {},
   "outputs": [],
   "source": []
  },
  {
   "cell_type": "markdown",
   "metadata": {},
   "source": [
    "### 4. It's Your Turn!\n",
    "\n",
    "Now it's your turn to train your own agent to solve the environment!  A few **important notes**:\n",
    "- When training the environment, set `train_mode=True`, so that the line for resetting the environment looks like the following:\n",
    "```python\n",
    "env_info = env.reset(train_mode=True)[brain_name]\n",
    "```\n",
    "- To structure your work, you're welcome to work directly in this Jupyter notebook, or you might like to start over with a new file!  You can see the list of files in the workspace by clicking on **_Jupyter_** in the top left corner of the notebook.\n",
    "- In this coding environment, you will not be able to watch the agents while they are training.  However, **_after training the agents_**, you can download the saved model weights to watch the agents on your own machine! "
   ]
  },
  {
   "cell_type": "code",
   "execution_count": 7,
   "metadata": {},
   "outputs": [],
   "source": [
    "from collections import deque\n",
    "from itertools import count\n",
    "import time \n",
    "import torch\n",
    "from agent import Agent\n",
    "import matplotlib.pyplot as plt\n",
    "%matplotlib inline\n"
   ]
  },
  {
   "cell_type": "code",
   "execution_count": 8,
   "metadata": {},
   "outputs": [
    {
     "name": "stdout",
     "output_type": "stream",
     "text": [
      "Episode 10, Average Score: 0.03, Max: 0.10, Min: 0.00, Avg: 0.03, Time: 0.40\n",
      "Episode 20, Average Score: 0.02, Max: 0.00, Min: 0.00, Avg: 0.00, Time: 0.47\n",
      "Episode 30, Average Score: 0.01, Max: 0.00, Min: 0.00, Avg: 0.00, Time: 0.46\n",
      "Episode 40, Average Score: 0.01, Max: 0.00, Min: 0.00, Avg: 0.00, Time: 0.40\n",
      "Episode 50, Average Score: 0.01, Max: 0.00, Min: 0.00, Avg: 0.00, Time: 0.42\n",
      "Episode 60, Average Score: 0.01, Max: 0.00, Min: 0.00, Avg: 0.00, Time: 0.39\n",
      "Episode 70, Average Score: 0.01, Max: 0.10, Min: 0.00, Avg: 0.04, Time: 0.40\n",
      "Episode 80, Average Score: 0.02, Max: 0.20, Min: 0.00, Avg: 0.06, Time: 0.99\n",
      "Episode 90, Average Score: 0.02, Max: 0.10, Min: 0.00, Avg: 0.08, Time: 0.93\n",
      "Episode 100, Average Score: 0.03, Max: 0.19, Min: 0.00, Avg: 0.07, Time: 0.46\n",
      "Episode 110, Average Score: 0.04, Max: 0.40, Min: 0.00, Avg: 0.11, Time: 0.99\n",
      "Episode 120, Average Score: 0.04, Max: 0.30, Min: 0.00, Avg: 0.07, Time: 0.98\n",
      "Episode 130, Average Score: 0.05, Max: 0.10, Min: 0.00, Avg: 0.06, Time: 0.49\n",
      "Episode 140, Average Score: 0.06, Max: 0.20, Min: 0.00, Avg: 0.09, Time: 2.13\n",
      "Episode 150, Average Score: 0.06, Max: 0.20, Min: 0.00, Avg: 0.07, Time: 2.10\n",
      "Episode 160, Average Score: 0.08, Max: 0.30, Min: 0.00, Avg: 0.15, Time: 2.62\n",
      "Episode 170, Average Score: 0.09, Max: 0.50, Min: 0.00, Avg: 0.16, Time: 0.52\n",
      "Episode 180, Average Score: 0.10, Max: 0.30, Min: 0.09, Avg: 0.16, Time: 1.57\n",
      "Episode 190, Average Score: 0.11, Max: 0.50, Min: 0.00, Avg: 0.16, Time: 2.09\n",
      "Episode 200, Average Score: 0.13, Max: 0.80, Min: 0.10, Avg: 0.28, Time: 1.12\n",
      "Episode 210, Average Score: 0.14, Max: 0.90, Min: 0.00, Avg: 0.23, Time: 5.52\n",
      "Episode 220, Average Score: 0.17, Max: 0.60, Min: 0.00, Avg: 0.34, Time: 8.20\n",
      "Episode 230, Average Score: 0.19, Max: 1.00, Min: 0.00, Avg: 0.29, Time: 2.05\n",
      "Episode 240, Average Score: 0.20, Max: 0.30, Min: 0.00, Avg: 0.15, Time: 1.60\n",
      "Episode 250, Average Score: 0.22, Max: 0.80, Min: 0.00, Avg: 0.31, Time: 1.50\n",
      "Episode 260, Average Score: 0.23, Max: 0.50, Min: 0.00, Avg: 0.25, Time: 5.53\n",
      "Episode 270, Average Score: 0.25, Max: 1.10, Min: 0.10, Avg: 0.31, Time: 2.70\n",
      "Episode 280, Average Score: 0.26, Max: 1.10, Min: 0.10, Avg: 0.33, Time: 2.71\n",
      "Episode 290, Average Score: 0.28, Max: 1.20, Min: 0.00, Avg: 0.32, Time: 2.04\n",
      "Episode 300, Average Score: 0.28, Max: 0.70, Min: 0.10, Avg: 0.25, Time: 1.30\n",
      "Episode 310, Average Score: 0.27, Max: 0.39, Min: 0.00, Avg: 0.20, Time: 0.98\n",
      "Episode 320, Average Score: 0.27, Max: 1.30, Min: 0.09, Avg: 0.30, Time: 2.10\n",
      "Episode 330, Average Score: 0.26, Max: 0.59, Min: 0.00, Avg: 0.22, Time: 4.23\n",
      "Episode 340, Average Score: 0.26, Max: 0.40, Min: 0.00, Avg: 0.16, Time: 0.41\n",
      "Episode 350, Average Score: 0.27, Max: 1.10, Min: 0.10, Avg: 0.37, Time: 6.62\n",
      "Episode 360, Average Score: 0.27, Max: 0.69, Min: 0.00, Avg: 0.22, Time: 1.45\n",
      "Episode 370, Average Score: 0.27, Max: 0.80, Min: 0.00, Avg: 0.31, Time: 9.26\n",
      "Episode 380, Average Score: 0.25, Max: 0.40, Min: 0.10, Avg: 0.19, Time: 1.60\n",
      "Episode 390, Average Score: 0.24, Max: 0.40, Min: 0.00, Avg: 0.15, Time: 1.59\n",
      "Episode 400, Average Score: 0.24, Max: 1.10, Min: 0.00, Avg: 0.26, Time: 11.70\n",
      "Episode 410, Average Score: 0.24, Max: 1.09, Min: 0.00, Avg: 0.23, Time: 1.45\n",
      "Episode 420, Average Score: 0.24, Max: 1.00, Min: 0.10, Avg: 0.31, Time: 4.92\n",
      "Episode 430, Average Score: 0.24, Max: 0.50, Min: 0.10, Avg: 0.19, Time: 2.86\n",
      "Episode 440, Average Score: 0.25, Max: 1.20, Min: 0.10, Avg: 0.30, Time: 3.22\n",
      "Episode 450, Average Score: 0.25, Max: 1.19, Min: 0.00, Avg: 0.31, Time: 1.38\n",
      "Episode 460, Average Score: 0.25, Max: 0.70, Min: 0.00, Avg: 0.24, Time: 3.20\n",
      "Episode 470, Average Score: 0.24, Max: 0.59, Min: 0.00, Avg: 0.22, Time: 3.30\n",
      "Episode 480, Average Score: 0.26, Max: 1.30, Min: 0.09, Avg: 0.42, Time: 5.01\n",
      "Episode 490, Average Score: 0.27, Max: 0.50, Min: 0.09, Avg: 0.23, Time: 5.69\n",
      "Episode 500, Average Score: 0.27, Max: 1.40, Min: 0.00, Avg: 0.28, Time: 2.73\n",
      "Episode 510, Average Score: 0.28, Max: 1.30, Min: 0.00, Avg: 0.27, Time: 1.49\n",
      "Episode 520, Average Score: 0.29, Max: 1.70, Min: 0.10, Avg: 0.40, Time: 1.55\n",
      "Episode 530, Average Score: 0.30, Max: 1.10, Min: 0.00, Avg: 0.33, Time: 2.11\n",
      "Episode 540, Average Score: 0.33, Max: 1.80, Min: 0.00, Avg: 0.58, Time: 0.42\n",
      "Episode 550, Average Score: 0.35, Max: 1.60, Min: 0.10, Avg: 0.52, Time: 5.64\n",
      "Episode 560, Average Score: 0.35, Max: 1.10, Min: 0.00, Avg: 0.25, Time: 1.57\n",
      "Episode 570, Average Score: 0.36, Max: 1.60, Min: 0.00, Avg: 0.34, Time: 0.53\n",
      "Episode 580, Average Score: 0.38, Max: 2.60, Min: 0.00, Avg: 0.58, Time: 2.12\n",
      "Episode 590, Average Score: 0.40, Max: 1.40, Min: 0.00, Avg: 0.44, Time: 0.42\n",
      "Episode 600, Average Score: 0.40, Max: 1.20, Min: 0.00, Avg: 0.27, Time: 1.98\n",
      "Episode 610, Average Score: 0.45, Max: 1.40, Min: 0.20, Avg: 0.75, Time: 9.60\n",
      "Episode 620, Average Score: 0.44, Max: 1.00, Min: 0.00, Avg: 0.31, Time: 1.00\n",
      "Episode 630, Average Score: 0.44, Max: 1.50, Min: 0.00, Avg: 0.36, Time: 0.47\n",
      "Episode 640, Average Score: 0.42, Max: 1.30, Min: 0.00, Avg: 0.34, Time: 6.70\n",
      "Episode 650, Average Score: 0.39, Max: 1.00, Min: 0.00, Avg: 0.31, Time: 1.60\n",
      "Episode 660, Average Score: 0.43, Max: 1.60, Min: 0.00, Avg: 0.60, Time: 3.34\n",
      "Episode 670, Average Score: 0.43, Max: 1.00, Min: 0.10, Avg: 0.32, Time: 1.51\n",
      "Episode 680, Average Score: 0.40, Max: 0.89, Min: 0.10, Avg: 0.31, Time: 3.93\n",
      "Episode 690, Average Score: 0.44, Max: 2.50, Min: 0.00, Avg: 0.82, Time: 8.69\n",
      "Episode 700, Average Score: 0.47, Max: 1.10, Min: 0.30, Avg: 0.60, Time: 4.58\n",
      "Episode 710, Average Score: 0.45, Max: 1.80, Min: 0.00, Avg: 0.55, Time: 11.89\n",
      "Episode 720, Average Score: 0.45, Max: 0.70, Min: 0.00, Avg: 0.26, Time: 4.36\n",
      "Episode 730, Average Score: 0.46, Max: 1.50, Min: 0.10, Avg: 0.48, Time: 1.59\n",
      "Episode 740, Average Score: 0.47, Max: 1.30, Min: 0.00, Avg: 0.42, Time: 1.99\n",
      "\n",
      "\n",
      "Environment solved in 748 episodes!\tMoving Average Score: 0.502\n",
      "\n",
      "Saving model ... done.\n"
     ]
    }
   ],
   "source": [
    "agent = Agent(state_size = state_size,action_size=action_size,random_seed=0,num_agents=2)\n",
    "score,averages = agent.train(env,n_episodes=1000)"
   ]
  },
  {
   "cell_type": "code",
   "execution_count": 18,
   "metadata": {},
   "outputs": [
    {
     "data": {
      "image/png": "[encoded data removed]",
      "text/plain": [
       "<matplotlib.figure.Figure at 0x7f56d05a9390>"
      ]
     },
     "metadata": {
      "needs_background": "light"
     },
     "output_type": "display_data"
    }
   ],
   "source": [
    "import matplotlib.pyplot as plt\n",
    "import numpy as np\n",
    "\n",
    "# Assuming scores and averages have different lengths, and you want to interpolate averages to match scores.\n",
    "# Make sure both scores and averages have the same length or can be aligned correctly.\n",
    "\n",
    "# Interpolate averages to match the length of scores\n",
    "averages = np.interp(np.arange(len(scores)), np.arange(len(averages)), averages)\n",
    "\n",
    "fig = plt.figure(figsize=(10, 4))\n",
    "ax = fig.add_subplot(111)\n",
    "episode_numbers = np.arange(1, len(scores) + 1)\n",
    "\n",
    "plt.plot(episode_numbers, scores, label='Scores')\n",
    "plt.plot(episode_numbers, averages, c='r', label='Average')\n",
    "plt.ylabel('Score')\n",
    "plt.xlabel('Episode #')\n",
    "ax.legend(fontsize='large', loc='upper left')\n",
    "plt.show()\n"
   ]
  },
  {
   "cell_type": "code",
   "execution_count": 19,
   "metadata": {},
   "outputs": [
    {
     "name": "stdout",
     "output_type": "stream",
     "text": [
      "Episode 10, Average Score: 0.00, Max: 0.00, Min: 0.00, Avg: 0.00, Time: 0.40\n",
      "Episode 20, Average Score: 0.00, Max: 0.00, Min: 0.00, Avg: 0.00, Time: 0.40\n",
      "Episode 30, Average Score: 0.00, Max: 0.00, Min: 0.00, Avg: 0.00, Time: 0.44\n",
      "Episode 40, Average Score: 0.00, Max: 0.00, Min: 0.00, Avg: 0.00, Time: 0.44\n",
      "Episode 50, Average Score: 0.00, Max: 0.00, Min: 0.00, Avg: 0.00, Time: 0.42\n",
      "Episode 60, Average Score: 0.00, Max: 0.00, Min: 0.00, Avg: 0.00, Time: 0.46\n",
      "Episode 70, Average Score: 0.00, Max: 0.00, Min: 0.00, Avg: 0.00, Time: 0.43\n",
      "Episode 80, Average Score: 0.00, Max: 0.00, Min: 0.00, Avg: 0.00, Time: 0.42\n",
      "Episode 90, Average Score: 0.00, Max: 0.00, Min: 0.00, Avg: 0.00, Time: 0.61\n",
      "Episode 100, Average Score: 0.00, Max: 0.20, Min: 0.00, Avg: 0.02, Time: 0.52\n",
      "Episode 110, Average Score: 0.00, Max: 0.10, Min: 0.00, Avg: 0.01, Time: 0.43\n",
      "Episode 120, Average Score: 0.00, Max: 0.00, Min: 0.00, Avg: 0.00, Time: 0.46\n",
      "Episode 130, Average Score: 0.01, Max: 0.10, Min: 0.00, Avg: 0.03, Time: 0.95\n",
      "Episode 140, Average Score: 0.01, Max: 0.10, Min: 0.00, Avg: 0.04, Time: 0.99\n",
      "Episode 150, Average Score: 0.01, Max: 0.10, Min: 0.00, Avg: 0.04, Time: 0.45\n",
      "Episode 160, Average Score: 0.02, Max: 0.20, Min: 0.00, Avg: 0.07, Time: 0.40\n",
      "Episode 170, Average Score: 0.02, Max: 0.10, Min: 0.00, Avg: 0.03, Time: 0.41\n",
      "Episode 180, Average Score: 0.03, Max: 0.20, Min: 0.00, Avg: 0.05, Time: 0.43\n",
      "Episode 190, Average Score: 0.04, Max: 0.10, Min: 0.00, Avg: 0.06, Time: 0.46\n",
      "Episode 200, Average Score: 0.04, Max: 0.20, Min: 0.00, Avg: 0.06, Time: 0.54\n",
      "Episode 210, Average Score: 0.05, Max: 0.20, Min: 0.00, Avg: 0.08, Time: 0.94\n",
      "Episode 220, Average Score: 0.06, Max: 0.40, Min: 0.00, Avg: 0.15, Time: 4.53\n",
      "Episode 230, Average Score: 0.09, Max: 0.70, Min: 0.10, Avg: 0.34, Time: 5.11\n",
      "Episode 240, Average Score: 0.12, Max: 0.69, Min: 0.10, Avg: 0.29, Time: 1.61\n",
      "Episode 250, Average Score: 0.14, Max: 0.60, Min: 0.10, Avg: 0.28, Time: 1.61\n",
      "Episode 260, Average Score: 0.15, Max: 0.30, Min: 0.10, Avg: 0.15, Time: 3.31\n",
      "Episode 270, Average Score: 0.18, Max: 0.90, Min: 0.10, Avg: 0.33, Time: 2.68\n",
      "Episode 280, Average Score: 0.24, Max: 2.00, Min: 0.00, Avg: 0.65, Time: 4.00\n",
      "Episode 290, Average Score: 0.34, Max: 2.60, Min: 0.00, Avg: 1.06, Time: 0.71\n",
      "Episode 300, Average Score: 0.38, Max: 1.50, Min: 0.09, Avg: 0.48, Time: 1.60\n",
      "\n",
      "\n",
      "Environment solved in 309 episodes!\tMoving Average Score: 0.517\n",
      "\n",
      "Saving model ... done.\n"
     ]
    }
   ],
   "source": [
    "agent = Agent(state_size = state_size, action_size = action_size, random_seed = 0, num_agents=2)\n",
    "scores, averages = agent.train(env, n_episodes=2000, apply_noise_decay=True, checkpoint_file='checkpoint_noise_decay.pt')"
   ]
  },
  {
   "cell_type": "code",
   "execution_count": 20,
   "metadata": {},
   "outputs": [
    {
     "data": {
      "image/png": "[encoded data removed]",
      "text/plain": [
       "<matplotlib.figure.Figure at 0x7f56d06d7550>"
      ]
     },
     "metadata": {
      "needs_background": "light"
     },
     "output_type": "display_data"
    }
   ],
   "source": [
    "fig = plt.figure(figsize=(10,4))\n",
    "ax = fig.add_subplot(111)\n",
    "plt.plot(np.arange(1, len(scores)+1), scores, label='Scores')\n",
    "plt.plot(np.arange(len(scores)), averages, c='r', label='Average')\n",
    "plt.ylabel('Score')\n",
    "plt.xlabel('Episode #')\n",
    "ax.legend(fontsize='large', loc='upper left')\n",
    "plt.show()"
   ]
  },
  {
   "cell_type": "code",
   "execution_count": 21,
   "metadata": {},
   "outputs": [
    {
     "name": "stdout",
     "output_type": "stream",
     "text": [
      "Total score (averaged over agents) this episode: 2.600000038743019\n",
      "Total score (averaged over agents) this episode: 2.600000038743019\n",
      "Total score (averaged over agents) this episode: 2.600000038743019\n",
      "Total score (averaged over agents) this episode: 2.600000038743019\n",
      "Total score (averaged over agents) this episode: 2.600000038743019\n"
     ]
    }
   ],
   "source": [
    "#load the weights from file\n",
    "agent = Agent(state_size = state_size, action_size = action_size, random_seed = 0, num_agents=2)\n",
    "agent.load(file='checkpoint.pt')\n",
    "agent.test(env, n_episodes=5)"
   ]
  },
  {
   "cell_type": "code",
   "execution_count": 22,
   "metadata": {},
   "outputs": [
    {
     "name": "stdout",
     "output_type": "stream",
     "text": [
      "Total score (averaged over agents) this episode: 0.9950000150129199\n",
      "Total score (averaged over agents) this episode: 1.1950000179931521\n",
      "Total score (averaged over agents) this episode: 0.04500000085681677\n",
      "Total score (averaged over agents) this episode: 1.2950000194832683\n",
      "Total score (averaged over agents) this episode: 0.3450000053271651\n"
     ]
    }
   ],
   "source": [
    "agent = Agent(state_size = state_size, action_size = action_size, random_seed = 0, num_agents=2)\n",
    "agent.load(file='checkpoint_noise_decay.pt')\n",
    "agent.test(env, n_episodes=5)"
   ]
  },
  {
   "cell_type": "code",
   "execution_count": 23,
   "metadata": {},
   "outputs": [],
   "source": [
    "env.close()"
   ]
  },
  {
   "cell_type": "code",
   "execution_count": null,
   "metadata": {},
   "outputs": [],
   "source": []
  },
  {
   "cell_type": "code",
   "execution_count": null,
   "metadata": {},
   "outputs": [],
   "source": [
    "\n"
   ]
  },
  {
   "cell_type": "code",
   "execution_count": null,
   "metadata": {},
   "outputs": [],
   "source": []
  }
 ],
 "metadata": {
  "kernelspec": {
   "display_name": "Python 3",
   "language": "python",
   "name": "python3"
  },
  "language_info": {
   "codemirror_mode": {
    "name": "ipython",
    "version": 3
   },
   "file_extension": ".py",
   "mimetype": "text/x-python",
   "name": "python",
   "nbconvert_exporter": "python",
   "pygments_lexer": "ipython3",
   "version": "3.6.3"
  }
 },
 "nbformat": 4,
 "nbformat_minor": 2
}
